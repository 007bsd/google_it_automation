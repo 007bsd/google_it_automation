{
 "cells": [
  {
   "cell_type": "code",
   "execution_count": 12,
   "metadata": {},
   "outputs": [
    {
     "name": "stdout",
     "output_type": "stream",
     "text": [
      "2020\n",
      "the new year is  2021-06-03 00:00:00\n",
      "yyyy-mm-dd\n",
      "2021\n",
      "the new year is  2022-01-01 00:00:00\n",
      "yyyy-mm-dd\n",
      "2020\n",
      "yyyy-mm-dd\n"
     ]
    }
   ],
   "source": [
    "import datetime\n",
    "from datetime import date\n",
    "\n",
    "def add_year(date_obj):\n",
    "  try:\n",
    "    print(date_obj.year)\n",
    "    new_date_obj = date_obj.replace(year = date_obj.year + 1)\n",
    "    print(\"the new year is \", new_date_obj)\n",
    "  except ValueError:\n",
    "    # This gets executed when the above method fails, \n",
    "    # which means that we're making a Leap Year calculation\n",
    "\n",
    "    new_date_obj = date_obj.replace(year = date_obj.year + 4)\n",
    "    #print(new_date_obj)\n",
    "  return new_date_obj\n",
    "\n",
    "def next_date(date_string):\n",
    "  # Convert the argument from string to date object\n",
    "  date_obj = datetime.datetime.strptime(date_string, r\"%Y-%m-%d\")\n",
    "  next_date_obj = add_year(date_obj)\n",
    "\n",
    "  # Convert the datetime object to string, \n",
    "  # in the format of \"yyyy-mm-dd\"\n",
    "  next_date_string = next_date_obj.strftime(\"yyyy-mm-dd\")\n",
    "  return next_date_string\n",
    "\n",
    "today = date.today() \n",
    "#print(today)# Get today's date\n",
    "print(next_date(str(today))) \n",
    "# Should return a year from today, unless today is Leap Day\n",
    "\n",
    "print(next_date(\"2021-01-01\")) # Should return 2022-01-01\n",
    "print(next_date(\"2020-02-29\")) # Should return 2024-02-29"
   ]
  },
  {
   "cell_type": "code",
   "execution_count": null,
   "metadata": {},
   "outputs": [],
   "source": []
  }
 ],
 "metadata": {
  "kernelspec": {
   "display_name": "Python 3",
   "language": "python",
   "name": "python3"
  },
  "language_info": {
   "codemirror_mode": {
    "name": "ipython",
    "version": 3
   },
   "file_extension": ".py",
   "mimetype": "text/x-python",
   "name": "python",
   "nbconvert_exporter": "python",
   "pygments_lexer": "ipython3",
   "version": "3.7.6"
  }
 },
 "nbformat": 4,
 "nbformat_minor": 4
}
