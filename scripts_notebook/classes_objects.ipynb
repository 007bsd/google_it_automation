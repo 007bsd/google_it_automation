{
 "cells": [
  {
   "cell_type": "code",
   "execution_count": 3,
   "metadata": {},
   "outputs": [
    {
     "name": "stdout",
     "output_type": "stream",
     "text": [
      "Roses are red,\n",
      "violets are blue,\n",
      "honey's sweet, and so are you\n"
     ]
    }
   ],
   "source": [
    "class Flower:\n",
    "    color = 'unknown'\n",
    "    def count():\n",
    "        pass\n",
    "\n",
    "rose = Flower()\n",
    "rose.color = 'red'\n",
    "rose.count()\n",
    "violet = Flower()\n",
    "violet.color = 'blue'\n",
    "\n",
    "this_pun_is_for_you = \"honey's sweet, and so are you\"\n",
    "\n",
    "print(\"Roses are {},\".format(rose.color))\n",
    "print(\"violets are {},\".format(violet.color))\n",
    "print(this_pun_is_for_you) "
   ]
  },
  {
   "cell_type": "code",
   "execution_count": 8,
   "metadata": {},
   "outputs": [
    {
     "name": "stdout",
     "output_type": "stream",
     "text": [
      "This piece of furniture is made of brown wood\n",
      "This piece of furniture is made of red leather\n"
     ]
    }
   ],
   "source": [
    "class Furniture:\n",
    "\tcolor = \"\"\n",
    "\tmaterial = \"\"\n",
    "\n",
    "table = Furniture()\n",
    "table.color = \"brown\"\n",
    "table.material = \"wood\"\n",
    "\n",
    "couch = Furniture()\n",
    "couch.color = \"red\"\n",
    "couch.material = \"leather\"\n",
    "\n",
    "def describe_furniture(piece):\n",
    "    return (\"This piece of furniture is made of {} {}\".format(piece.color, piece.material))\n",
    "\n",
    "print(describe_furniture(table)) \n",
    "# Should be \"This piece of furniture is made of brown wood\"\n",
    "print(describe_furniture(couch)) \n",
    "# Should be \"This piece of furniture is made of red leather\""
   ]
  },
  {
   "cell_type": "code",
   "execution_count": 18,
   "metadata": {},
   "outputs": [
    {
     "name": "stdout",
     "output_type": "stream",
     "text": [
      "Cusco, Peru\n",
      "Sofia, Bulgaria\n",
      "\n"
     ]
    }
   ],
   "source": [
    "# define a basic city class\n",
    "class City:\n",
    "\tname = \"\"\n",
    "\tcountry = \"\"\n",
    "\televation = 0 \n",
    "\tpopulation = 0\n",
    "\n",
    "# create a new instance of the City class and\n",
    "# define each attribute\n",
    "city1 = City()\n",
    "city1.name = \"Cusco\"\n",
    "city1.country = \"Peru\"\n",
    "city1.elevation = 3399\n",
    "city1.population = 358052\n",
    "\n",
    "# create a new instance of the City class and\n",
    "# define each attribute\n",
    "city2 = City()\n",
    "city2.name = \"Sofia\"\n",
    "city2.country = \"Bulgaria\"\n",
    "city2.elevation = 2290\n",
    "city2.population = 1241675\n",
    "\n",
    "# create a new instance of the City class and\n",
    "# define each attribute\n",
    "city3 = City()\n",
    "city3.name = \"Seoul\"\n",
    "city3.country = \"South Korea\"\n",
    "city3.elevation = 38\n",
    "city3.population = 9733509\n",
    "\n",
    "def max_elevation_city(min_population):\n",
    "\t# Initialize the variable that will hold \n",
    "# the information of the city with \n",
    "# the highest elevation \n",
    "\treturn_city = City()\n",
    "\n",
    "\t# Evaluate the 1st instance to meet the requirements:\n",
    "\t# does city #1 have at least min_population and\n",
    "\t# is its elevation the highest evaluated so far?\n",
    "\tif city1.population >= min_population and city1.elevation>return_city.elevation:\n",
    "    \n",
    "\t\treturn_city = city1\n",
    "\t# Evaluate the 2nd instance to meet the requirements:\n",
    "\t# does city #2 have at least min_population and\n",
    "\t# is its elevation the highest evaluated so far?\n",
    "\tif city2.population >= min_population and city1.elevation>return_city.elevation:\n",
    "    \n",
    "\t\treturn_city = city2\n",
    "\t# Evaluate the 3rd instance to meet the requirements:\n",
    "\t# does city #3 have at least min_population and\n",
    "\t# is its elevation the highest evaluated so far?\n",
    "\tif city3.population >= min_population and city3.elevation > return_city.elevation:\n",
    "\t\treturn_city = city3\n",
    "\n",
    "\t#Format the return string\n",
    "\tif return_city.name:\n",
    "\t\treturn  (\"{}, {}\".format(return_city.name, return_city.country))\n",
    "\telse:\n",
    "\t\treturn \"\"\n",
    "\n",
    "print(max_elevation_city(100000)) # Should print \"Cusco, Peru\"\n",
    "print(max_elevation_city(1000000)) # Should print \"Sofia, Bulgaria\"\n",
    "print(max_elevation_city(10000000)) # Should print \"\""
   ]
  },
  {
   "cell_type": "code",
   "execution_count": 20,
   "metadata": {},
   "outputs": [
    {
     "name": "stdout",
     "output_type": "stream",
     "text": [
      "Johanna has 2 apples and Martin has 1 apples\n",
      "Johanna has 2 ideas and Martin has 2 ideas\n"
     ]
    }
   ],
   "source": [
    "# “If you have an apple and I have an apple and we exchange these apples then\n",
    "# you and I will still each have one apple. But if you have an idea and I have\n",
    "# an idea and we exchange these ideas, then each of us will have two ideas.”\n",
    "# George Bernard Shaw\n",
    "\n",
    "class Person:\n",
    "    apples = 0\n",
    "    ideas = 0\n",
    "\n",
    "johanna = Person()\n",
    "johanna.apples = 1\n",
    "johanna.ideas = 1\n",
    "\n",
    "martin = Person()\n",
    "martin.apples = 2\n",
    "martin.ideas = 1\n",
    "\n",
    "def exchange_apples(you, me):\n",
    "#Here, despite G.B. Shaw's quote, our characters have started with       #different amounts of apples so we can better observe the results. \n",
    "#We're going to have Martin and Johanna exchange ALL their apples with #one another.\n",
    "#Hint: how would you switch values of variables, \n",
    "#so that \"you\" and \"me\" will exchange ALL their apples with one another?\n",
    "#Do you need a temporary variable to store one of the values?\n",
    "#You may need more than one line of code to do that, which is OK. \n",
    "    temp = you.apples\n",
    "    you.apples = me.apples\n",
    "    me.apples = temp\n",
    "    return you.apples, me.apples\n",
    "\n",
    "    \n",
    "def exchange_ideas(you, me):\n",
    "    #\"you\" and \"me\" will share our ideas with one another.\n",
    "    #What operations need to be performed, so that each object receives\n",
    "    #the shared number of ideas?\n",
    "    #Hint: how would you assign the total number of ideas to \n",
    "    #each idea attribute? Do you need a temporary variable to store \n",
    "    #the sum of ideas, or can you find another way? \n",
    "    #Use as many lines of code as you need here.\n",
    "    temp = you.ideas\n",
    "    you.ideas += me.ideas\n",
    "    me.ideas += temp\n",
    "    return you.ideas, me.ideas\n",
    "\n",
    "exchange_apples(johanna, martin)\n",
    "print(\"Johanna has {} apples and Martin has {} apples\".format(johanna.apples, martin.apples))\n",
    "exchange_ideas(johanna, martin)\n",
    "print(\"Johanna has {} ideas and Martin has {} ideas\".format(johanna.ideas, martin.ideas))\n",
    "\n"
   ]
  },
  {
   "cell_type": "code",
   "execution_count": 23,
   "metadata": {},
   "outputs": [
    {
     "name": "stdout",
     "output_type": "stream",
     "text": [
      "21\n"
     ]
    }
   ],
   "source": [
    "class Dog:\n",
    "  years = 0\n",
    "  def dog_years(self):\n",
    "        return self.years * 7\n",
    "    \n",
    "fido=Dog()\n",
    "fido.years=3\n",
    "print(fido.dog_years())"
   ]
  },
  {
   "cell_type": "code",
   "execution_count": 22,
   "metadata": {},
   "outputs": [
    {
     "name": "stdout",
     "output_type": "stream",
     "text": [
      "hi, my name is Das\n"
     ]
    }
   ],
   "source": [
    "class Person:\n",
    "    def __init__(self, name):\n",
    "        self.name = name\n",
    "    def greeting(self):\n",
    "        # Should return \"hi, my name is \" followed by the name of the Person.\n",
    "        return (\"hi, my name is {}\".format(self.name))\n",
    "\n",
    "# Create a new instance with a name of your choice\n",
    "some_person = Person(\"Das\")\n",
    "# Call the greeting method\n",
    "print(some_person.greeting())"
   ]
  },
  {
   "cell_type": "code",
   "execution_count": 13,
   "metadata": {},
   "outputs": [],
   "source": [
    "class Person:\n",
    "    def __init__(self, name):\n",
    "        self.name = name\n",
    "    def greeting(self):\n",
    "        \"\"\"Outputs a message with the name of the person.\"\"\"\n",
    "        print(\"Hello! My name is {name}.\".format(name=self.name))\n",
    "p = Person(\"Das\")\n"
   ]
  },
  {
   "cell_type": "code",
   "execution_count": 142,
   "metadata": {},
   "outputs": [],
   "source": [
    "class Elevator:\n",
    "    def __init__(self, bottom, top, current):\n",
    "        \"\"\"Initializes the Elevator instance.\"\"\"\n",
    "        self.bottom = bottom\n",
    "        self.top = top\n",
    "        self.current = current\n",
    "    def __str__(self):\n",
    "        \"\"\"Initializes the string instance.\"\"\"\n",
    "        return(\"The current floor is {}\".format(self.current))\n",
    "    def up(self):\n",
    "        \"\"\"Makes the elevator go up one floor.\"\"\"\n",
    "        if self.current < self.top:\n",
    "            self.current=self.current+1\n",
    "    def down(self):\n",
    "        \"\"\"Makes the elevator go down one floor.\"\"\"\n",
    "        if self.current > self.bottom:\n",
    "            self.current=self.current-1\n",
    "    def go_to(self, floor):\n",
    "        \"\"\"Makes the elevator go to the specific floor.\"\"\"\n",
    "        self.current = floor\n",
    "\n",
    "elevator = Elevator(-1, 10, 0)"
   ]
  },
  {
   "cell_type": "code",
   "execution_count": 143,
   "metadata": {},
   "outputs": [
    {
     "name": "stdout",
     "output_type": "stream",
     "text": [
      "The current floor is 1\n"
     ]
    }
   ],
   "source": [
    "elevator.up() \n",
    "elevator.current #should output 1\n",
    "print(elevator)"
   ]
  },
  {
   "cell_type": "code",
   "execution_count": 144,
   "metadata": {},
   "outputs": [
    {
     "name": "stdout",
     "output_type": "stream",
     "text": [
      "The current floor is 0\n"
     ]
    }
   ],
   "source": [
    "elevator.down() \n",
    "elevator.current #should output 0\n",
    "print(elevator)"
   ]
  },
  {
   "cell_type": "code",
   "execution_count": 145,
   "metadata": {},
   "outputs": [
    {
     "name": "stdout",
     "output_type": "stream",
     "text": [
      "The current floor is 10\n"
     ]
    }
   ],
   "source": [
    "elevator.go_to(10) \n",
    "elevator.current #should output 10\n",
    "print(elevator)"
   ]
  },
  {
   "cell_type": "code",
   "execution_count": 146,
   "metadata": {},
   "outputs": [
    {
     "name": "stdout",
     "output_type": "stream",
     "text": [
      "9\n",
      "The current floor is 9\n",
      "1\n",
      "The current floor is 1\n"
     ]
    }
   ],
   "source": [
    "# Go to the top floor. Try to go up, it should stay. Then go down.\n",
    "elevator.go_to(10)\n",
    "elevator.up()\n",
    "elevator.down()\n",
    "print(elevator.current) # should be 9\n",
    "print(elevator)\n",
    "# Go to the bottom floor. Try to go down, it should stay. Then go up.\n",
    "elevator.go_to(-1)\n",
    "elevator.down()\n",
    "elevator.down()\n",
    "elevator.up()\n",
    "elevator.up()\n",
    "print(elevator.current) # should be 1\n",
    "\n",
    "print(elevator)"
   ]
  },
  {
   "cell_type": "code",
   "execution_count": 147,
   "metadata": {},
   "outputs": [
    {
     "name": "stdout",
     "output_type": "stream",
     "text": [
      "The current floor is 5\n"
     ]
    }
   ],
   "source": [
    "elevator.go_to(5)\n",
    "print(elevator)"
   ]
  },
  {
   "cell_type": "code",
   "execution_count": 1,
   "metadata": {
    "scrolled": true
   },
   "outputs": [
    {
     "name": "stdout",
     "output_type": "stream",
     "text": [
      "This Polo is made of Cotton\n"
     ]
    }
   ],
   "source": [
    "class Clothing:\n",
    "  material = \"\"\n",
    "  def __init__(self,name):\n",
    "    self.name = name\n",
    "  def checkmaterial(self):\n",
    "\t  print(\"This {} is made of {}\".format(self.name,self.material))\n",
    "\t\t\t\n",
    "class Shirt(Clothing):\n",
    "  material=\"Cotton\"\n",
    "\n",
    "polo = Shirt(\"Polo\")\n",
    "polo.checkmaterial()"
   ]
  },
  {
   "cell_type": "code",
   "execution_count": 6,
   "metadata": {},
   "outputs": [
    {
     "name": "stdout",
     "output_type": "stream",
     "text": [
      "10\n"
     ]
    }
   ],
   "source": [
    "class Clothing:\n",
    "  stock={ 'name': [],'material' :[], 'amount':[]}\n",
    "  def __init__(self,name):\n",
    "    material = \"\"\n",
    "    self.name = name\n",
    "  def add_item(self, name, material, amount):\n",
    "    Clothing.stock['name'].append(self.name)\n",
    "    Clothing.stock['material'].append(self.material)\n",
    "    Clothing.stock['amount'].append(amount)\n",
    "  def Stock_by_Material(self, material):\n",
    "    count=0\n",
    "    n=0\n",
    "    for item in Clothing.stock['material']:\n",
    "      if item == material:\n",
    "        count += Clothing.stock['amount'][n]\n",
    "        n+=1\n",
    "    return count\n",
    "\n",
    "class shirt(Clothing):\n",
    "  material=\"Cotton\"\n",
    "class pants(Clothing):\n",
    "  material=\"Cotton\"\n",
    "  \n",
    "polo = shirt(\"Polo\")\n",
    "sweatpants = pants(\"Sweatpants\")\n",
    "polo.add_item(polo.name, polo.material, 4)\n",
    "sweatpants.add_item(sweatpants.name, sweatpants.material, 6)\n",
    "current_stock = polo.Stock_by_Material(\"Cotton\")\n",
    "print(current_stock)"
   ]
  },
  {
   "cell_type": "code",
   "execution_count": 52,
   "metadata": {},
   "outputs": [
    {
     "name": "stdout",
     "output_type": "stream",
     "text": [
      "2\n"
     ]
    }
   ],
   "source": [
    "class Animal:\n",
    "    name = \"\"\n",
    "    category = \"\"\n",
    "    \n",
    "    def __init__(self, name):\n",
    "        self.name = name\n",
    "    \n",
    "    def set_category(self, category):\n",
    "        self.category = category\n",
    "class Turtle(Animal):\n",
    "\n",
    "  name = \"turtle\"\n",
    "  category = \"Reptile\"        \n",
    "\n",
    "class Snake(Animal):\n",
    "\n",
    "  name = \"snake\"\n",
    "  category = \"Reptile\"        \n",
    "class Zoo:\n",
    "    def __init__(self):\n",
    "        self.current_animals = {}\n",
    "    \n",
    "    def add_animal(self, animal):\n",
    "        self.current_animals[animal.name] = animal.category\n",
    "    \n",
    "    def total_of_category(self, category):\n",
    "        result = 0\n",
    "        for animal in self.current_animals.values():\n",
    "            if animal == category:\n",
    "                result += 1\n",
    "        return result\n",
    "\n",
    "zoo = Zoo()\n",
    "turtle = Turtle(\"turtle\") #create an instance of the Turtle class\n",
    "snake = Snake(\"Snake\") #create an instance of the Snake class\n",
    "\n",
    "zoo.add_animal(turtle)\n",
    "zoo.add_animal(snake)\n",
    "\n",
    "print(zoo.total_of_category(\"Reptile\"))\n"
   ]
  },
  {
   "cell_type": "code",
   "execution_count": 42,
   "metadata": {},
   "outputs": [],
   "source": []
  },
  {
   "cell_type": "code",
   "execution_count": 43,
   "metadata": {},
   "outputs": [
    {
     "name": "stdout",
     "output_type": "stream",
     "text": [
      "0\n"
     ]
    }
   ],
   "source": [
    " #how many zoo animal types in the reptile category"
   ]
  },
  {
   "cell_type": "code",
   "execution_count": 48,
   "metadata": {},
   "outputs": [
    {
     "name": "stdout",
     "output_type": "stream",
     "text": [
      "Reptile\n",
      "2\n"
     ]
    }
   ],
   "source": [
    "#This is the correct Code\n",
    "\n",
    "class Animal:\n",
    "\n",
    "    name = \"\"\n",
    "\n",
    "    category = \"\"\n",
    "\n",
    "    def __init__(self, name):\n",
    "\n",
    "        self.name = name\n",
    "\n",
    "    def set_category(self, category):\n",
    "\n",
    "        self.category = category\n",
    "\n",
    "#==================================================================\n",
    "\n",
    "class Turtle(Animal):\n",
    "\n",
    "  name = \"turtle\"\n",
    "\n",
    "  category = \"Reptile\"\n",
    "\n",
    "#=================================================================\n",
    "\n",
    "print(Turtle.category)\n",
    "\n",
    "#=================================================================\n",
    "\n",
    "class Snake(Animal):\n",
    "\n",
    "  name = \"snake\"\n",
    "\n",
    "  category = \"Reptile\"\n",
    "\n",
    "#=================================================================\n",
    "\n",
    "class Zoo:\n",
    "\n",
    "    def __init__(self):\n",
    "\n",
    "        self.current_animals = {}\n",
    "\n",
    "    def add_animal(self, animal):\n",
    "\n",
    "        self.current_animals[animal.name] = animal.category\n",
    "\n",
    "    def total_of_category(self, category):\n",
    "\n",
    "        result = 0\n",
    "\n",
    "        for animal in self.current_animals.values():\n",
    "\n",
    "            if animal == category:\n",
    "\n",
    "                result += 1\n",
    "\n",
    "        return result\n",
    "\n",
    "zoo = Zoo()\n",
    "\n",
    "#=================================================================\n",
    "\n",
    "turtle = Turtle(\"Turtle\") #create an instance of the Turtle class\n",
    "\n",
    "snake = Snake(\"Snake\") #create an instance of the Snake class\n",
    "\n",
    "zoo.add_animal(turtle)\n",
    "\n",
    "zoo.add_animal(snake)\n",
    "\n",
    "print(zoo.total_of_category(\"Reptile\")) #how many zoo animal types in the reptile category\n"
   ]
  },
  {
   "cell_type": "code",
   "execution_count": 77,
   "metadata": {},
   "outputs": [],
   "source": [
    "#Begin Portion 1#\n",
    "import random\n",
    "\n",
    "class Server:\n",
    "    def __init__(self):\n",
    "        \"\"\"Creates a new server instance, with no active connections.\"\"\"\n",
    "        self.connections = {}\n",
    "\n",
    "    def add_connection(self, connection_id):\n",
    "        \"\"\"Adds a new connection to this server.\"\"\"\n",
    "        connection_load = random.random()*10+1\n",
    "        self.connections[connection_id] = connection_load\n",
    "            \n",
    "        # Add the connection to the dictionary with the calculated load\n",
    "    def close_connection(self, connection_id):\n",
    "        \"\"\"Closes a connection on this server.\"\"\"\n",
    "        # Remove the connection from the dictionary\n",
    "        del self.connections[connection_id]\n",
    "    def load(self):\n",
    "        \"\"\"Calculates the current load for all connections.\"\"\"\n",
    "        total = 0\n",
    "        for connection in self.connections.values():\n",
    "            total += connection\n",
    "        # Add up the load for each of the connections\n",
    "        return total\n",
    "\n",
    "    def __str__(self):\n",
    "        \"\"\"Returns a string with the current load of the server\"\"\"\n",
    "        return \"{:.2f}%\".format(self.load())\n",
    "    \n",
    "#End Portion 1#"
   ]
  },
  {
   "cell_type": "code",
   "execution_count": 78,
   "metadata": {},
   "outputs": [
    {
     "name": "stdout",
     "output_type": "stream",
     "text": [
      "9.039424420716074\n"
     ]
    }
   ],
   "source": [
    "server = Server()\n",
    "server.add_connection(\"192.168.1.1\")\n",
    "\n",
    "print(server.load())\n"
   ]
  },
  {
   "cell_type": "code",
   "execution_count": 79,
   "metadata": {},
   "outputs": [
    {
     "name": "stdout",
     "output_type": "stream",
     "text": [
      "0\n"
     ]
    }
   ],
   "source": [
    "server.close_connection(\"192.168.1.1\")\n",
    "print(server.load())\n"
   ]
  },
  {
   "cell_type": "code",
   "execution_count": 80,
   "metadata": {},
   "outputs": [],
   "source": [
    "#Begin Portion 2#\n",
    "class LoadBalancing:\n",
    "    def __init__(self):\n",
    "        \"\"\"Initialize the load balancing system with one server\"\"\"\n",
    "        self.connections = {}\n",
    "        self.servers = [Server()]\n",
    "\n",
    "    def add_connection(self, connection_id):\n",
    "        \"\"\"Randomly selects a server and adds a connection to it.\"\"\"\n",
    "        server = random.choice(self.servers)\n",
    "        # Add the connection to the dictionary with the selected server\n",
    "        self.connections[connection_id] = server\n",
    "        # Add the connection to the server\n",
    "        server.add_connection(connection_id)\n",
    "        self.ensure_availability()\n",
    "\n",
    "    def close_connection(self, connection_id):\n",
    "        \"\"\"Closes the connection on the the server corresponding to connection_id.\"\"\"\n",
    "        # Find out the right server\n",
    "        server = self.connections[connection_id]\n",
    "        # Close the connection on the server\n",
    "        server.close_connection(connection_id)\n",
    "        # Remove the connection from the load balancer\n",
    "        del self.connections[connection_id]\n",
    "\n",
    "    def avg_load(self):\n",
    "        \"\"\"Calculates the average load of all servers\"\"\"\n",
    "        # Sum the load of each server and divide by the amount of servers\n",
    "        result = 0\n",
    "        for server in self.servers:\n",
    "            result += server.load()\n",
    "        return result/len(self.servers)\n",
    "\n",
    "    def ensure_availability(self):\n",
    "        \"\"\"If the average load is higher than 50, spin up a new server\"\"\"\n",
    "        if self.avg_load() > 50:\n",
    "            self.servers.append(Server())\n",
    "\n",
    "    def __str__(self):\n",
    "        \"\"\"Returns a string with the load for each server.\"\"\"\n",
    "        loads = [str(server) for server in self.servers]\n",
    "        return \"[{}]\".format(\",\".join(loads))"
   ]
  },
  {
   "cell_type": "code",
   "execution_count": 81,
   "metadata": {},
   "outputs": [
    {
     "name": "stdout",
     "output_type": "stream",
     "text": [
      "9.792463882222853\n"
     ]
    }
   ],
   "source": [
    "l = LoadBalancing()\n",
    "l.add_connection(\"fdca:83d2::f20d\")\n",
    "print(l.avg_load())"
   ]
  },
  {
   "cell_type": "code",
   "execution_count": 82,
   "metadata": {},
   "outputs": [
    {
     "name": "stdout",
     "output_type": "stream",
     "text": [
      "0.0\n"
     ]
    }
   ],
   "source": [
    "l.close_connection(\"fdca:83d2::f20d\")\n",
    "print(l.avg_load())\n"
   ]
  },
  {
   "cell_type": "code",
   "execution_count": 83,
   "metadata": {},
   "outputs": [
    {
     "name": "stdout",
     "output_type": "stream",
     "text": [
      "[80.46%,44.69%,0.00%]\n"
     ]
    }
   ],
   "source": [
    "for connection in range(20):\n",
    "    l.add_connection(connection)\n",
    "print(l)\n"
   ]
  },
  {
   "cell_type": "code",
   "execution_count": 84,
   "metadata": {},
   "outputs": [
    {
     "name": "stdout",
     "output_type": "stream",
     "text": [
      "41.71936166980405\n"
     ]
    }
   ],
   "source": [
    "print(l.avg_load())"
   ]
  },
  {
   "cell_type": "code",
   "execution_count": null,
   "metadata": {},
   "outputs": [],
   "source": []
  }
 ],
 "metadata": {
  "kernelspec": {
   "display_name": "Python 3",
   "language": "python",
   "name": "python3"
  },
  "language_info": {
   "codemirror_mode": {
    "name": "ipython",
    "version": 3
   },
   "file_extension": ".py",
   "mimetype": "text/x-python",
   "name": "python",
   "nbconvert_exporter": "python",
   "pygments_lexer": "ipython3",
   "version": "3.7.6"
  }
 },
 "nbformat": 4,
 "nbformat_minor": 4
}
